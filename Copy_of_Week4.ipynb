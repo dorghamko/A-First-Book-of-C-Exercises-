{
  "nbformat": 4,
  "nbformat_minor": 0,
  "metadata": {
    "colab": {
      "name": "Copy of Week4.ipynb",
      "provenance": [],
      "authorship_tag": "ABX9TyNdqb6zVAidZ7LN0atkPn0C",
      "include_colab_link": true
    },
    "kernelspec": {
      "name": "python3",
      "display_name": "Python 3"
    },
    "language_info": {
      "name": "python"
    }
  },
  "cells": [
    {
      "cell_type": "markdown",
      "metadata": {
        "id": "view-in-github",
        "colab_type": "text"
      },
      "source": [
        "<a href=\"https://colab.research.google.com/github/dorghamko/A-First-Book-of-C-Exercises-/blob/master/Copy_of_Week4.ipynb\" target=\"_parent\"><img src=\"https://colab.research.google.com/assets/colab-badge.svg\" alt=\"Open In Colab\"/></a>"
      ]
    },
    {
      "cell_type": "code",
      "execution_count": null,
      "metadata": {
        "id": "KjESYGmqy_mx"
      },
      "outputs": [],
      "source": [
        "W"
      ]
    }
  ]
}